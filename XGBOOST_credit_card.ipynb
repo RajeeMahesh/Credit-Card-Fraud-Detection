{
  "cells": [
    {
      "cell_type": "code",
      "execution_count": null,
      "metadata": {
        "id": "UTVoW3FEPRfD"
      },
      "outputs": [],
      "source": [
        "!pip install PyDrive"
      ]
    },
    {
      "cell_type": "code",
      "execution_count": null,
      "metadata": {
        "id": "LWGDUqo0abyj"
      },
      "outputs": [],
      "source": [
        "!pip install shap"
      ]
    },
    {
      "cell_type": "code",
      "execution_count": null,
      "metadata": {
        "id": "S_5GYEgdPTV5"
      },
      "outputs": [],
      "source": [
        "!pip install keras"
      ]
    },
    {
      "cell_type": "code",
      "execution_count": null,
      "metadata": {
        "id": "s1jvUdOmPWBL"
      },
      "outputs": [],
      "source": [
        "!pip install tensorflow"
      ]
    },
    {
      "cell_type": "code",
      "execution_count": null,
      "metadata": {
        "id": "bGLmcPuWc5bS"
      },
      "outputs": [],
      "source": [
        "from pydrive.auth import GoogleAuth\n",
        "from pydrive.drive import GoogleDrive\n",
        "from google.colab import auth\n",
        "from oauth2client.client import GoogleCredentials\n",
        "import seaborn as sns\n",
        "import numpy as np\n",
        "from datetime import datetime as dt\n",
        "import matplotlib.pyplot as plt\n",
        "from sklearn.preprocessing import OneHotEncoder\n",
        "from sklearn import preprocessing\n",
        "from sklearn.preprocessing import LabelEncoder\n",
        "from sklearn.model_selection import train_test_split\n",
        "from sklearn.linear_model import LogisticRegression\n",
        "from sklearn import metrics \n",
        "from sklearn.metrics import classification_report, confusion_matrix\n",
        "from sklearn.metrics import accuracy_score\n",
        "from sklearn.model_selection import GridSearchCV\n",
        "from sklearn.datasets import make_blobs\n",
        "from sklearn.model_selection import train_test_split\n",
        "from sklearn.preprocessing import StandardScaler\n",
        "import xgboost as xgb\n",
        "from xgboost import XGBClassifier\n",
        "import math\n",
        "import shap\n",
        "import tensorflow.keras as keras\n",
        "from keras.models import Sequential\n",
        "from keras.layers import Dense\n",
        "import tensorflow.keras as keras\n",
        "from keras.models import Sequential\n",
        "from keras.layers import Dense\n",
        "from keras.wrappers.scikit_learn import KerasClassifier\n",
        "import geopy.distance"
      ]
    },
    {
      "cell_type": "code",
      "execution_count": null,
      "metadata": {
        "colab": {
          "background_save": true
        },
        "id": "66wlxWvJPdlm"
      },
      "outputs": [],
      "source": [
        "# 1. Authenticate and create the PyDrive client.\n",
        "auth.authenticate_user()\n",
        "gauth = GoogleAuth()\n",
        "gauth.credentials = GoogleCredentials.get_application_default()\n",
        "drive = GoogleDrive(gauth)"
      ]
    },
    {
      "cell_type": "code",
      "execution_count": null,
      "metadata": {
        "id": "8R01vsi-PhuD"
      },
      "outputs": [],
      "source": [
        "#2. Get the file\n",
        "downloaded = drive.CreateFile({'id':\"17TlCXfs4WKyo8nshLrTGoVTLOvP6CIyr\"})   # replace the id with id of file you want to access\n",
        "downloaded.GetContentFile('fraudTrain.csv')"
      ]
    },
    {
      "cell_type": "code",
      "execution_count": null,
      "metadata": {
        "id": "AhBZY-erPl6G"
      },
      "outputs": [],
      "source": [
        "#3. Read file as panda dataframe\n",
        "import pandas as pd\n",
        "data = pd.read_csv('fraudTrain.csv')"
      ]
    },
    {
      "cell_type": "code",
      "execution_count": null,
      "metadata": {
        "colab": {
          "base_uri": "https://localhost:8080/"
        },
        "id": "YlVCOZ8dPn-R",
        "outputId": "34dbd25d-b5b2-432e-b430-a2c2768c8808"
      },
      "outputs": [
        {
          "data": {
            "text/plain": [
              "(1296675, 23)"
            ]
          },
          "execution_count": 8,
          "metadata": {},
          "output_type": "execute_result"
        }
      ],
      "source": [
        "data.shape"
      ]
    },
    {
      "cell_type": "code",
      "execution_count": null,
      "metadata": {
        "id": "amokUbsrP00V"
      },
      "outputs": [],
      "source": [
        "data['trans_date_trans_time'] = pd.to_datetime(data['trans_date_trans_time'])\n",
        "data.dtypes['trans_date_trans_time']\n",
        "\n",
        "data['transaction_hour'] = data['trans_date_trans_time'].dt.hour\n",
        "\n",
        "t = data.groupby('transaction_hour').count()\n",
        "t = t['trans_num']\n",
        "t = pd.DataFrame(t)\n",
        "t = t.rename(columns={'trans_num':'Actual_transaction'})\n",
        "\n",
        "fraud_t = data.loc[data['is_fraud']==1]\n",
        "tf = fraud_t.groupby('transaction_hour').count()\n",
        "tf = tf['trans_num']\n",
        "\n",
        "time = pd.concat([t, tf], axis=1)\n",
        "time[['Actual_transaction','trans_num']]\n",
        "\n",
        "time = time.rename(columns={'trans_num':'Fradulent_transaction'})\n",
        "\n",
        "time['Fradulent_transaction'] = time['Fradulent_transaction'].fillna(0)\n",
        "\n",
        "time['fraud_rate%_by_hour'] = (time['Fradulent_transaction'] / time['Actual_transaction']) * 100\n",
        "\n",
        "time = time.sort_values(['fraud_rate%_by_hour'], ascending=False)\n",
        "fr_time = pd.DataFrame(time['fraud_rate%_by_hour'])\n",
        "\n",
        "act_time = data['transaction_hour']\n",
        "act_time = pd.DataFrame(act_time)\n",
        "\n",
        "new_time = pd.merge(act_time, fr_time, how='left', on='transaction_hour')\n",
        "new_time"
      ]
    },
    {
      "cell_type": "code",
      "execution_count": null,
      "metadata": {
        "id": "pcRhVGY9P3qf"
      },
      "outputs": [],
      "source": [
        "data['transaction_hour'] = new_time['fraud_rate%_by_hour']"
      ]
    },
    {
      "cell_type": "code",
      "execution_count": null,
      "metadata": {
        "id": "6mqrlYfsP5k5"
      },
      "outputs": [],
      "source": [
        "t_categ_anal = data.groupby('category')[['trans_num']].count().reset_index()\n",
        "t_categ_anal.rename({'trans_num':'total_count_of_trasactions'}, axis=1)\n",
        "\n",
        "f_categ_anal = data[data['is_fraud']==1].groupby('category')[['trans_num']].count().reset_index()\n",
        "f_categ_anal.rename({'trans_num':'count_of_fraud_trasactions'}, axis=1)\n",
        "\n",
        "categ_anal = pd.merge(t_categ_anal, f_categ_anal, how='left', on='category')\n",
        "categ_anal['fraud_perc'] = (categ_anal['trans_num_y'] / categ_anal['trans_num_x']) * 100\n",
        "categ_anal = categ_anal.sort_values(['fraud_perc'], ascending=False)\n",
        "\n",
        "t_job_anal = data.groupby('job')[['trans_num']].count().reset_index()\n",
        "t_job_anal = t_job_anal.sort_values(['trans_num'], ascending=False)\n",
        "\n",
        "f_job_anal = data[data['is_fraud']==1].groupby('job')[['trans_num']].count().reset_index()\n",
        "f_job_anal = f_job_anal.sort_values(['trans_num'], ascending=False)\n",
        "\n",
        "job_anal = pd.merge(t_job_anal, f_job_anal, how='inner', on='job')\n",
        "job_anal['fraud_perc'] = (job_anal['trans_num_y'] / job_anal['trans_num_x']) * 100\n",
        "job_anal = job_anal.sort_values(['fraud_perc'], ascending=False)\n",
        "high_fraud = job_anal[job_anal['fraud_perc'] > 90]\n",
        "#high_fraud = pd.DataFrame(high_fraud['job'])\n",
        "high_fraud_job = high_fraud['job'].tolist()\n",
        "\n",
        "new_job = []\n",
        "\n",
        "for job in data['job']:\n",
        "  for fraud_job in high_fraud_job:\n",
        "    if fraud_job == job:\n",
        "      new_job.append('high risk')\n",
        "      break\n",
        "  else:\n",
        "    new_job.append('low risk')\n",
        "\n",
        "data['job'] = new_job"
      ]
    },
    {
      "cell_type": "code",
      "execution_count": null,
      "metadata": {
        "id": "0uoEutFBQB1l"
      },
      "outputs": [],
      "source": [
        "enc = OneHotEncoder()\n",
        "enc_df = pd.DataFrame(enc.fit_transform(data[['job']]).toarray())\n",
        "enc_df\n",
        "data = data.join(enc_df)"
      ]
    },
    {
      "cell_type": "code",
      "execution_count": null,
      "metadata": {
        "id": "sY4mlszrQDEI"
      },
      "outputs": [],
      "source": [
        "data.rename({0:'low risk job', 1:'high risk job'}, axis=1, inplace=True)"
      ]
    },
    {
      "cell_type": "code",
      "execution_count": null,
      "metadata": {
        "id": "lUHEyCKpQHrB"
      },
      "outputs": [],
      "source": [
        "z = data.groupby('zip').count()\n",
        "z = z['city']\n",
        "z = pd.DataFrame(z)\n",
        "z = z.rename(columns={'city':'Actual_transaction'})\n",
        "\n",
        "fraud = data.loc[data['is_fraud']==1]\n",
        "zf = fraud.groupby('zip').count()\n",
        "zf = zf['city']\n",
        "\n",
        "zip = pd.concat([z, zf], axis=1)\n",
        "zip[['Actual_transaction','city']]\n",
        "\n",
        "zip = zip.rename(columns={'city':'Fradulent_transaction'})\n",
        "\n",
        "zip['Fradulent_transaction'] = zip['Fradulent_transaction'].fillna(0)\n",
        "\n",
        "zip['fraud_rate%'] = (zip['Fradulent_transaction'] / zip['Actual_transaction']) * 100\n",
        "\n",
        "zip = zip.sort_values(['fraud_rate%'], ascending=False)\n",
        "fr_zip = pd.DataFrame(zip['fraud_rate%'])\n",
        "\n",
        "# Replacing Zip codes with fraud rates\n",
        "act_zip = data['zip']\n",
        "act_zip = pd.DataFrame(act_zip)\n",
        "\n",
        "new_zip = pd.merge(act_zip, fr_zip, how='left', on='zip')\n",
        "\n",
        "data['zip'] = new_zip['fraud_rate%']\n",
        "data['zip']"
      ]
    },
    {
      "cell_type": "code",
      "execution_count": null,
      "metadata": {
        "id": "fkbNIkW8QJbd"
      },
      "outputs": [],
      "source": [
        "data['amt'] = np.log(data['amt'])\n",
        "data['amt'].skew()"
      ]
    },
    {
      "cell_type": "code",
      "execution_count": null,
      "metadata": {
        "id": "dczH_U2iQMtk"
      },
      "outputs": [],
      "source": [
        "enc = OneHotEncoder()\n",
        "enc_df = pd.DataFrame(enc.fit_transform(data[['gender']]).toarray())\n",
        "enc_df\n",
        "data = data.join(enc_df)"
      ]
    },
    {
      "cell_type": "code",
      "execution_count": null,
      "metadata": {
        "id": "IghxpeA9QN1s"
      },
      "outputs": [],
      "source": [
        "data.rename({0:'female', 1:'male'}, axis=1, inplace=True)"
      ]
    },
    {
      "cell_type": "code",
      "execution_count": null,
      "metadata": {
        "id": "R9FwUMKBQP4b"
      },
      "outputs": [],
      "source": [
        "data['category'].replace({'misc_net':1, 'grocery_pos':2, 'entertainment':3, 'gas_transport':4, 'misc_pos':5, 'grocery_net':6, 'shopping_net':7, 'shopping_pos':8, 'food_dining':9, 'personal_care':10, 'health_fitness':11, 'travel':12, 'kids_pets':13, 'home':14})"
      ]
    },
    {
      "cell_type": "code",
      "execution_count": null,
      "metadata": {
        "id": "40P1_OJBQUjL"
      },
      "outputs": [],
      "source": [
        "enc = OneHotEncoder()\n",
        "enc_df = pd.DataFrame(enc.fit_transform(data[['category']]).toarray())\n",
        "enc_df\n",
        "data = data.join(enc_df)"
      ]
    },
    {
      "cell_type": "code",
      "execution_count": null,
      "metadata": {
        "id": "s7Sj4jYzQYGi"
      },
      "outputs": [],
      "source": [
        "data.rename({0:'misc_net', 1:'grocery_pos', 2:'entertainment', 3:'gas_transport', 4:'misc_pos', 5:'grocery_net', 6:'shopping_net', 7:'shopping_pos', 8:'food_dining', 9:'personal_care', 10:'health_fitness', 11:'travel', 12:'kids_pets', 13:'home'}, axis=1, inplace=True)"
      ]
    },
    {
      "cell_type": "code",
      "execution_count": null,
      "metadata": {
        "id": "09ypwYdNQaoI"
      },
      "outputs": [],
      "source": [
        "data['day_of_week'] = data['trans_date_trans_time'].dt.day_name()\n",
        "data['day_of_week']"
      ]
    },
    {
      "cell_type": "code",
      "execution_count": null,
      "metadata": {
        "colab": {
          "base_uri": "https://localhost:8080/"
        },
        "id": "bhe3wo6WQcGm",
        "outputId": "31875b7d-089c-4bc0-a615-8c8c7a197b87"
      },
      "outputs": [
        {
          "data": {
            "text/plain": [
              "array([5, 6, 4, 0, 2, 3, 1])"
            ]
          },
          "execution_count": 22,
          "metadata": {},
          "output_type": "execute_result"
        }
      ],
      "source": [
        "label_encoder = preprocessing.LabelEncoder()\n",
        "data['day_of_week'] = label_encoder.fit_transform(data['day_of_week'])\n",
        "data['day_of_week'].unique()"
      ]
    },
    {
      "cell_type": "code",
      "execution_count": null,
      "metadata": {
        "id": "SOVAdVZ7QedS"
      },
      "outputs": [],
      "source": [
        "data.columns"
      ]
    },
    {
      "cell_type": "code",
      "execution_count": null,
      "metadata": {
        "id": "J_qqsV81QgwY"
      },
      "outputs": [],
      "source": [
        "Y = data['is_fraud']"
      ]
    },
    {
      "cell_type": "code",
      "execution_count": null,
      "metadata": {
        "id": "Cw6Osi2sQjKU"
      },
      "outputs": [],
      "source": [
        "data.drop(columns=['Unnamed: 0','is_fraud','trans_date_trans_time','dob','trans_num','unix_time','merch_lat','merch_long','cc_num', 'street','city','state','lat','long','merchant','category', 'first','last','gender', 'job', 'female', 'low risk job'], axis=1, inplace=True)"
      ]
    },
    {
      "cell_type": "code",
      "execution_count": null,
      "metadata": {
        "id": "ehyg9kTUQm4I"
      },
      "outputs": [],
      "source": [
        "X = data.copy()"
      ]
    },
    {
      "cell_type": "code",
      "execution_count": null,
      "metadata": {
        "colab": {
          "base_uri": "https://localhost:8080/"
        },
        "id": "aYBgUlSCQslP",
        "outputId": "bae7d9d6-f7df-43bc-ee53-719a2278be26"
      },
      "outputs": [
        {
          "name": "stdout",
          "output_type": "stream",
          "text": [
            "(907672, 21) (389003, 21) (907672,) (389003,)\n"
          ]
        }
      ],
      "source": [
        "X_train, X_test, y_train, y_test = train_test_split(X, Y, test_size=0.30)\n",
        "print(X_train.shape, X_test.shape, y_train.shape, y_test.shape)"
      ]
    },
    {
      "cell_type": "code",
      "execution_count": null,
      "metadata": {
        "colab": {
          "base_uri": "https://localhost:8080/"
        },
        "id": "xNufY3GD2ufD",
        "outputId": "167ee4b5-994d-40c4-94ef-0ef6d7e432c5"
      },
      "outputs": [
        {
          "data": {
            "text/plain": [
              "0"
            ]
          },
          "execution_count": 65,
          "metadata": {},
          "output_type": "execute_result"
        }
      ],
      "source": [
        "y_test.isna().sum()"
      ]
    },
    {
      "cell_type": "code",
      "execution_count": null,
      "metadata": {
        "id": "OVtumVysRpqD"
      },
      "outputs": [],
      "source": [
        "xgb_instance = xgb.XGBClassifier() \n",
        "model_for_feature_selection = xgb_instance.fit(X_train, y_train)"
      ]
    },
    {
      "cell_type": "code",
      "execution_count": null,
      "metadata": {
        "id": "iJ8sJnATSPrC"
      },
      "outputs": [],
      "source": [
        "# check the importances - you can also use SHAP values\n",
        "feature_importance = {'Feature':X_train.columns,'Importance':model_for_feature_selection.feature_importances_}\n",
        "feature_importance = pd.DataFrame(feature_importance)\n",
        "feature_importance.sort_values(\"Importance\", inplace=True,ascending=False)\n",
        "feature_importance"
      ]
    },
    {
      "cell_type": "code",
      "execution_count": null,
      "metadata": {
        "colab": {
          "base_uri": "https://localhost:8080/"
        },
        "id": "llg_TEtzSRQW",
        "outputId": "a5cc3149-0a1c-4ecb-f333-78f2a9e7c44f"
      },
      "outputs": [
        {
          "data": {
            "text/plain": [
              "XGBClassifier(learning_rate=1.0, max_depth=6)"
            ]
          },
          "execution_count": 176,
          "metadata": {},
          "output_type": "execute_result"
        }
      ],
      "source": [
        "params = {\n",
        "            'objective':'binary:logistic',\n",
        "            'max_depth': 6,\n",
        "            'learning_rate': 1.0,\n",
        "            'n_estimators':100\n",
        "        }\n",
        "\n",
        "xgb_clf = XGBClassifier(**params)\n",
        "\n",
        "xgb_clf.fit(X_train, y_train)"
      ]
    },
    {
      "cell_type": "code",
      "execution_count": null,
      "metadata": {
        "id": "h8CiLgWyUCa1"
      },
      "outputs": [],
      "source": [
        "y_pred = xgb_clf.predict(X_test)\n",
        "y_pred_prob = xgb_clf.predict_proba(X_test)[:,1]"
      ]
    },
    {
      "cell_type": "code",
      "execution_count": null,
      "metadata": {
        "colab": {
          "base_uri": "https://localhost:8080/"
        },
        "id": "xtMQYEwYTukC",
        "outputId": "feae78b3-20cf-474d-d0a1-b0776932e156"
      },
      "outputs": [
        {
          "name": "stdout",
          "output_type": "stream",
          "text": [
            "XGBoost model accuracy score: 0.9980\n"
          ]
        }
      ],
      "source": [
        "print('XGBoost model accuracy score: {0:0.4f}'. format(accuracy_score(y_test, y_pred)))"
      ]
    },
    {
      "cell_type": "code",
      "execution_count": null,
      "metadata": {
        "id": "LBjt3DMFYGRP"
      },
      "outputs": [],
      "source": [
        "import xgboost as xgb\n",
        "from sklearn.metrics import roc_auc_score\n",
        "table = pd.DataFrame(columns = [\"Num Trees\", \"Learning_rate\", \"max_depth\", \"AUC_Train\", \"AUC_Test\"])\n",
        "\n",
        "row = 0\n",
        "\n",
        "for num_trees in [50, 100]:\n",
        "  for lr in [0.1, 0.2, 0.3]:\n",
        "    for num_layers in [3,5,7]:\n",
        "    \n",
        "        xgb_clf = XGBClassifier(n_estimators=num_trees, learning_rate=lr, max_depth=num_layers)\n",
        "        model = xgb_clf.fit(X_train, y_train)\n",
        "\n",
        "        table.loc[row,\"Num Trees\"] = num_trees\n",
        "        table.loc[row,\"learning_rate\"] = lr\n",
        "        table.loc[row, 'max_depth'] = num_layers\n",
        "        table.loc[row,\"AUC_Train\"] = roc_auc_score(y_train, model.predict_proba(X_train)[:,1])\n",
        "        table.loc[row,\"AUC_Test\"] = roc_auc_score(y_test, model.predict_proba(X_test)[:,1])\n",
        "\n",
        "        row = row + 1\n",
        "\n",
        "table "
      ]
    },
    {
      "cell_type": "code",
      "execution_count": null,
      "metadata": {
        "id": "iTtOpMyIor5_"
      },
      "outputs": [],
      "source": [
        "X_train_ss = X_train[:60000]"
      ]
    },
    {
      "cell_type": "code",
      "execution_count": null,
      "metadata": {
        "id": "vxDkBD95aUWk"
      },
      "outputs": [],
      "source": [
        "shap.initjs()"
      ]
    },
    {
      "cell_type": "code",
      "execution_count": null,
      "metadata": {
        "id": "HE1Aae8wcAbM"
      },
      "outputs": [],
      "source": [
        "shap_values = shap.TreeExplainer(xgb_clf, feature_perturbation='interventional').shap_values(X_train_ss)\n",
        "# shap.summary_plot(shap_values, X_train, plot_type='bar')"
      ]
    },
    {
      "cell_type": "code",
      "execution_count": null,
      "metadata": {
        "colab": {
          "base_uri": "https://localhost:8080/",
          "height": 585
        },
        "id": "WeuqUk50cEYt",
        "outputId": "3dc61048-1f93-437b-b604-87a2054b785e"
      },
      "outputs": [
        {
          "data": {
            "image/png": "[encoded data removed]",
            "text/plain": [
              "<Figure size 576x684 with 2 Axes>"
            ]
          },
          "metadata": {},
          "output_type": "display_data"
        }
      ],
      "source": [
        "shap.summary_plot(shap_values, X_train_ss)"
      ]
    },
    {
      "cell_type": "code",
      "execution_count": null,
      "metadata": {
        "colab": {
          "base_uri": "https://localhost:8080/",
          "height": 337
        },
        "id": "7uoz0_5PXqGL",
        "outputId": "175610d0-aa29-42c5-bf0c-022d20d15e6d"
      },
      "outputs": [
        {
          "data": {
            "image/png": "[encoded data removed]",
            "text/plain": [
              "<Figure size 540x360 with 2 Axes>"
            ]
          },
          "metadata": {},
          "output_type": "display_data"
        }
      ],
      "source": [
        "shap.dependence_plot('zip', shap_values, X_train_ss)"
      ]
    },
    {
      "cell_type": "code",
      "execution_count": null,
      "metadata": {
        "colab": {
          "base_uri": "https://localhost:8080/",
          "height": 337
        },
        "id": "OC2UiPonXsCR",
        "outputId": "8f0190ab-f21a-477a-d43b-d7491c06526a"
      },
      "outputs": [
        {
          "data": {
            "image/png": "[encoded data removed]",
            "text/plain": [
              "<Figure size 540x360 with 2 Axes>"
            ]
          },
          "metadata": {},
          "output_type": "display_data"
        }
      ],
      "source": [
        "shap.dependence_plot('transaction_hour', shap_values, X_train_ss)"
      ]
    },
    {
      "cell_type": "markdown",
      "metadata": {
        "id": "rRp1rDFtSb57"
      },
      "source": [
        "# Model Analysis"
      ]
    },
    {
      "cell_type": "code",
      "execution_count": null,
      "metadata": {
        "id": "TOQoVrwqSUe8"
      },
      "outputs": [],
      "source": [
        "y_df = pd.DataFrame(y_test)\n",
        "y_df['pred_fraud'] = y_pred\n",
        "y_df['pred_prob'] = y_pred_prob\n",
        "y_df.sort_values(by='pred_prob')\n",
        "y_df['rank'] = y_df['pred_prob'].rank()"
      ]
    },
    {
      "cell_type": "code",
      "execution_count": null,
      "metadata": {
        "id": "-h65FiGPShwK"
      },
      "outputs": [],
      "source": [
        "s1, s2 = np.split(y_df, [int(.10 *len(y_df))])\n",
        "s2, s3 = np.split(s2, [int(.10 *len(s2))])\n",
        "s3, s4 = np.split(s3, [int(.10 *len(s3))])\n",
        "s4, s5 = np.split(s4, [int(.10 *len(s4))])\n",
        "s5, s6 = np.split(s5, [int(.10 *len(s5))])\n",
        "s6, s7 = np.split(s6, [int(.10 *len(s6))])\n",
        "s7, s8 = np.split(s7, [int(.10 *len(s7))])\n",
        "s8, s9 = np.split(s8, [int(.10 *len(s8))])\n",
        "s9, s10 = np.split(s9, [int(.10 *len(s9))])"
      ]
    },
    {
      "cell_type": "code",
      "execution_count": null,
      "metadata": {
        "id": "ocP3MskaSnn7"
      },
      "outputs": [],
      "source": [
        "s1['compare'] = np.where(s1['is_fraud'] == s1['pred_prob'], True, False)\n",
        "s2['compare'] = np.where(s2['is_fraud'] == s2['pred_prob'], True, False)\n",
        "s3['compare'] = np.where(s3['is_fraud'] == s3['pred_prob'], True, False)\n",
        "s4['compare'] = np.where(s4['is_fraud'] == s4['pred_prob'], True, False)\n",
        "s5['compare'] = np.where(s5['is_fraud'] == s5['pred_prob'], True, False)\n",
        "s6['compare'] = np.where(s6['is_fraud'] == s6['pred_prob'], True, False)\n",
        "s7['compare'] = np.where(s7['is_fraud'] == s7['pred_prob'], True, False)\n",
        "s8['compare'] = np.where(s8['is_fraud'] == s8['pred_prob'], True, False)\n",
        "s9['compare'] = np.where(s9['is_fraud'] == s9['pred_prob'], True, False)\n",
        "s10['compare'] = np.where(s10['is_fraud'] == s10['pred_prob'], True, False)\n",
        "\n",
        "s1_avg = (s1[s1['compare']==True]['is_fraud'].sum())/s1.shape[0]\n",
        "s2_avg = (s1[s1['compare']==True]['is_fraud'].sum())/s2.shape[0]\n",
        "s3_avg = (s1[s1['compare']==True]['is_fraud'].sum())/s3.shape[0]\n",
        "s4_avg = (s1[s1['compare']==True]['is_fraud'].sum())/s4.shape[0]\n",
        "s5_avg = (s1[s1['compare']==True]['is_fraud'].sum())/s5.shape[0]\n",
        "s6_avg = (s1[s1['compare']==True]['is_fraud'].sum())/s6.shape[0]\n",
        "s7_avg = (s1[s1['compare']==True]['is_fraud'].sum())/s7.shape[0]\n",
        "s8_avg = (s1[s1['compare']==True]['is_fraud'].sum())/s8.shape[0]\n",
        "s9_avg = (s1[s1['compare']==True]['is_fraud'].sum())/s9.shape[0]\n",
        "s10_avg = (s1[s1['compare']==True]['is_fraud'].sum())/s10.shape[0]"
      ]
    },
    {
      "cell_type": "code",
      "execution_count": null,
      "metadata": {
        "colab": {
          "base_uri": "https://localhost:8080/",
          "height": 350
        },
        "id": "A40QOt66SqZS",
        "outputId": "f2890322-798f-4f49-f98b-6f04171b451c"
      },
      "outputs": [
        {
          "data": {
            "image/png": "[encoded data removed]",
            "text/plain": [
              "<Figure size 720x360 with 1 Axes>"
            ]
          },
          "metadata": {},
          "output_type": "display_data"
        }
      ],
      "source": [
        "import matplotlib.pyplot as plt\n",
        "\n",
        "avg = {'s1':s1_avg, 's2':s2_avg, 's3':s3_avg, 's4':s4_avg, 's5':s5_avg, 's6':s6_avg, 's7':s7_avg, 's8':s8_avg, 's9':s9_avg, 's10':s10_avg}\n",
        "labels = list(avg.keys())\n",
        "values = list(avg.values())\n",
        "values.sort()\n",
        "fig = plt.figure(figsize = (10, 5))\n",
        "\n",
        "plt.bar(labels, values, color ='maroon', width = 0.4)\n",
        "plt.xlabel(\"samples\")\n",
        "plt.ylabel(\"Average of target variable\")\n",
        "plt.title(\"Analysis of Final model\")\n",
        "plt.show()"
      ]
    },
    {
      "cell_type": "code",
      "execution_count": null,
      "metadata": {
        "colab": {
          "base_uri": "https://localhost:8080/"
        },
        "id": "1j4QPwvqnPXO",
        "outputId": "ccc1578e-bc52-40a4-80cc-0c161905fb6b"
      },
      "outputs": [
        {
          "name": "stdout",
          "output_type": "stream",
          "text": [
            "[0.99784067 0.99735225 0.99778926 0.99791774 0.99796915 0.99758355\n",
            " 0.99796915 0.9977635  0.99771208 0.9977635 ]\n",
            "0.9977660848787003\n"
          ]
        }
      ],
      "source": [
        "from sklearn .model_selection import KFold\n",
        "model = XGBClassifier()\n",
        "kfold_validation = KFold(10)\n",
        "\n",
        "import numpy as np\n",
        "from sklearn.model_selection import cross_val_score\n",
        "results = cross_val_score(model, X_test, y_test, cv=kfold_validation)\n",
        "print(results)\n",
        "print(np.mean(results))"
      ]
    }
  ],
  "metadata": {
    "colab": {
      "collapsed_sections": [],
      "name": "XGBOOST_credit_card.ipynb",
      "provenance": []
    },
    "kernelspec": {
      "display_name": "Python 3",
      "name": "python3"
    },
    "language_info": {
      "name": "python"
    }
  },
  "nbformat": 4,
  "nbformat_minor": 0
}