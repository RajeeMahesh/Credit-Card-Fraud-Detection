{
  "cells": [
    {
      "cell_type": "code",
      "execution_count": null,
      "metadata": {
        "id": "RjCn-zNmZjC6"
      },
      "outputs": [],
      "source": [
        "!pip install PyDrive"
      ]
    },
    {
      "cell_type": "code",
      "execution_count": null,
      "metadata": {
        "id": "seg6rEFbZqB_"
      },
      "outputs": [],
      "source": [
        "!pip install shap"
      ]
    },
    {
      "cell_type": "code",
      "execution_count": null,
      "metadata": {
        "id": "uKQZyl_aZs2c"
      },
      "outputs": [],
      "source": [
        "!pip install keras"
      ]
    },
    {
      "cell_type": "code",
      "execution_count": null,
      "metadata": {
        "id": "UnkgP8ahu84F"
      },
      "outputs": [],
      "source": [
        "!pip install sklearn"
      ]
    },
    {
      "cell_type": "code",
      "execution_count": null,
      "metadata": {
        "id": "B0EEGdIoZ4RS"
      },
      "outputs": [],
      "source": [
        "from pydrive.auth import GoogleAuth\n",
        "from pydrive.drive import GoogleDrive\n",
        "from google.colab import auth\n",
        "from oauth2client.client import GoogleCredentials\n",
        "import seaborn as sns\n",
        "import numpy as np\n",
        "from datetime import datetime as dt\n",
        "import matplotlib.pyplot as plt\n",
        "from sklearn.preprocessing import OneHotEncoder\n",
        "from sklearn import preprocessing\n",
        "from sklearn.preprocessing import LabelEncoder\n",
        "from sklearn.model_selection import train_test_split\n",
        "from sklearn.linear_model import LogisticRegression\n",
        "from sklearn import metrics \n",
        "from sklearn.metrics import classification_report, confusion_matrix\n",
        "from sklearn.metrics import accuracy_score\n",
        "from sklearn.model_selection import GridSearchCV\n",
        "from sklearn.datasets import make_blobs\n",
        "from sklearn.model_selection import train_test_split\n",
        "from sklearn.preprocessing import StandardScaler\n",
        "import xgboost as xgb\n",
        "from xgboost import XGBClassifier\n",
        "import math\n",
        "import tensorflow.keras as keras\n",
        "from keras.models import Sequential\n",
        "from keras.layers import Dense\n",
        "import tensorflow.keras as keras\n",
        "from keras.models import Sequential\n",
        "from keras.layers import Dense\n",
        "from keras.wrappers.scikit_learn import KerasClassifier\n",
        "import geopy.distance"
      ]
    },
    {
      "cell_type": "code",
      "execution_count": null,
      "metadata": {
        "id": "XPUl7-sJaB8D"
      },
      "outputs": [],
      "source": [
        "# 1. Authenticate and create the PyDrive client.\n",
        "auth.authenticate_user()\n",
        "gauth = GoogleAuth()\n",
        "gauth.credentials = GoogleCredentials.get_application_default()\n",
        "drive = GoogleDrive(gauth)"
      ]
    },
    {
      "cell_type": "code",
      "execution_count": null,
      "metadata": {
        "id": "zzRCTkc1aEZZ"
      },
      "outputs": [],
      "source": [
        "#2. Get the file\n",
        "downloaded = drive.CreateFile({'id':\"17TlCXfs4WKyo8nshLrTGoVTLOvP6CIyr\"})   # replace the id with id of file you want to access\n",
        "downloaded.GetContentFile('fraudTrain.csv')"
      ]
    },
    {
      "cell_type": "code",
      "execution_count": null,
      "metadata": {
        "id": "1gZOJcbfaeY9"
      },
      "outputs": [],
      "source": [
        "#3. Read file as panda dataframe\n",
        "import pandas as pd\n",
        "data = pd.read_csv('fraudTrain.csv') "
      ]
    },
    {
      "cell_type": "markdown",
      "source": [
        "# Exploration of Data"
      ],
      "metadata": {
        "id": "LI1S4BAq9ZoU"
      }
    },
    {
      "cell_type": "code",
      "execution_count": null,
      "metadata": {
        "colab": {
          "base_uri": "https://localhost:8080/"
        },
        "id": "8--WuMJGajBO",
        "outputId": "84e577bf-be98-4bf6-f3f6-726f1d6272e6"
      },
      "outputs": [
        {
          "data": {
            "text/plain": [
              "(1296675, 23)"
            ]
          },
          "execution_count": 8,
          "metadata": {},
          "output_type": "execute_result"
        }
      ],
      "source": [
        "data.shape"
      ]
    },
    {
      "cell_type": "code",
      "source": [
        "data.isna().sum()"
      ],
      "metadata": {
        "id": "_I_MPZ0G897_"
      },
      "execution_count": null,
      "outputs": []
    },
    {
      "cell_type": "code",
      "source": [
        "fraud = data.loc[data['is_fraud']==1]\n",
        "non_fraud = data.loc[data['is_fraud']==0]"
      ],
      "metadata": {
        "id": "eNUWHPQc8-m_"
      },
      "execution_count": null,
      "outputs": []
    },
    {
      "cell_type": "code",
      "source": [
        "fraud.describe().apply(lambda s: s.apply('{0:.2f}'.format))"
      ],
      "metadata": {
        "id": "Lv2gw5wu9Bic",
        "colab": {
          "base_uri": "https://localhost:8080/",
          "height": 279
        },
        "outputId": "9e04e4a3-105e-4884-8e0c-7d2c6175fff8"
      },
      "execution_count": null,
      "outputs": [
        {
          "output_type": "execute_result",
          "data": {
            "text/html": [
              "\n",
              "  <div id=\"df-a3236165-2fed-4ae6-9157-331bb331fa24\">\n",
              "    <div class=\"colab-df-container\">\n",
              "      <div>\n",
              "<style scoped>\n",
              "    .dataframe tbody tr th:only-of-type {\n",
              "        vertical-align: middle;\n",
              "    }\n",
              "\n",
              "    .dataframe tbody tr th {\n",
              "        vertical-align: top;\n",
              "    }\n",
              "\n",
              "    .dataframe thead th {\n",
              "        text-align: right;\n",
              "    }\n",
              "</style>\n",
              "<table border=\"1\" class=\"dataframe\">\n",
              "  <thead>\n",
              "    <tr style=\"text-align: right;\">\n",
              "      <th></th>\n",
              "      <th>Unnamed: 0</th>\n",
              "      <th>cc_num</th>\n",
              "      <th>amt</th>\n",
              "      <th>zip</th>\n",
              "      <th>lat</th>\n",
              "      <th>long</th>\n",
              "      <th>city_pop</th>\n",
              "      <th>unix_time</th>\n",
              "      <th>merch_lat</th>\n",
              "      <th>merch_long</th>\n",
              "      <th>is_fraud</th>\n",
              "    </tr>\n",
              "  </thead>\n",
              "  <tbody>\n",
              "    <tr>\n",
              "      <th>count</th>\n",
              "      <td>7506.00</td>\n",
              "      <td>7506.00</td>\n",
              "      <td>7506.00</td>\n",
              "      <td>7506.00</td>\n",
              "      <td>7506.00</td>\n",
              "      <td>7506.00</td>\n",
              "      <td>7506.00</td>\n",
              "      <td>7506.00</td>\n",
              "      <td>7506.00</td>\n",
              "      <td>7506.00</td>\n",
              "      <td>7506.00</td>\n",
              "    </tr>\n",
              "    <tr>\n",
              "      <th>mean</th>\n",
              "      <td>624949.72</td>\n",
              "      <td>400357683719606400.00</td>\n",
              "      <td>531.32</td>\n",
              "      <td>48038.71</td>\n",
              "      <td>38.66</td>\n",
              "      <td>-89.92</td>\n",
              "      <td>97276.76</td>\n",
              "      <td>1348389120.97</td>\n",
              "      <td>38.65</td>\n",
              "      <td>-89.92</td>\n",
              "      <td>1.00</td>\n",
              "    </tr>\n",
              "    <tr>\n",
              "      <th>std</th>\n",
              "      <td>401056.01</td>\n",
              "      <td>1276871477748873216.00</td>\n",
              "      <td>390.56</td>\n",
              "      <td>27265.56</td>\n",
              "      <td>5.17</td>\n",
              "      <td>14.28</td>\n",
              "      <td>326581.47</td>\n",
              "      <td>13830201.29</td>\n",
              "      <td>5.22</td>\n",
              "      <td>14.30</td>\n",
              "      <td>0.00</td>\n",
              "    </tr>\n",
              "    <tr>\n",
              "      <th>min</th>\n",
              "      <td>2449.00</td>\n",
              "      <td>60416207185.00</td>\n",
              "      <td>1.06</td>\n",
              "      <td>1330.00</td>\n",
              "      <td>20.03</td>\n",
              "      <td>-165.67</td>\n",
              "      <td>23.00</td>\n",
              "      <td>1325466397.00</td>\n",
              "      <td>19.43</td>\n",
              "      <td>-166.55</td>\n",
              "      <td>1.00</td>\n",
              "    </tr>\n",
              "    <tr>\n",
              "      <th>25%</th>\n",
              "      <td>239856.50</td>\n",
              "      <td>180042946491150.00</td>\n",
              "      <td>245.66</td>\n",
              "      <td>24927.00</td>\n",
              "      <td>35.06</td>\n",
              "      <td>-96.70</td>\n",
              "      <td>746.50</td>\n",
              "      <td>1335743544.75</td>\n",
              "      <td>35.11</td>\n",
              "      <td>-96.67</td>\n",
              "      <td>1.00</td>\n",
              "    </tr>\n",
              "    <tr>\n",
              "      <th>50%</th>\n",
              "      <td>638162.00</td>\n",
              "      <td>3528040995648998.00</td>\n",
              "      <td>396.50</td>\n",
              "      <td>46290.00</td>\n",
              "      <td>39.43</td>\n",
              "      <td>-86.69</td>\n",
              "      <td>2623.00</td>\n",
              "      <td>1348872455.50</td>\n",
              "      <td>39.43</td>\n",
              "      <td>-86.81</td>\n",
              "      <td>1.00</td>\n",
              "    </tr>\n",
              "    <tr>\n",
              "      <th>75%</th>\n",
              "      <td>984921.50</td>\n",
              "      <td>4651007077623147.00</td>\n",
              "      <td>900.88</td>\n",
              "      <td>71107.00</td>\n",
              "      <td>42.07</td>\n",
              "      <td>-79.94</td>\n",
              "      <td>21437.00</td>\n",
              "      <td>1360021288.00</td>\n",
              "      <td>41.99</td>\n",
              "      <td>-79.91</td>\n",
              "      <td>1.00</td>\n",
              "    </tr>\n",
              "    <tr>\n",
              "      <th>max</th>\n",
              "      <td>1295733.00</td>\n",
              "      <td>4992346398065154048.00</td>\n",
              "      <td>1376.04</td>\n",
              "      <td>99783.00</td>\n",
              "      <td>66.69</td>\n",
              "      <td>-68.56</td>\n",
              "      <td>2906700.00</td>\n",
              "      <td>1371787186.00</td>\n",
              "      <td>67.51</td>\n",
              "      <td>-67.57</td>\n",
              "      <td>1.00</td>\n",
              "    </tr>\n",
              "  </tbody>\n",
              "</table>\n",
              "</div>\n",
              "      <button class=\"colab-df-convert\" onclick=\"convertToInteractive('df-a3236165-2fed-4ae6-9157-331bb331fa24')\"\n",
              "              title=\"Convert this dataframe to an interactive table.\"\n",
              "              style=\"display:none;\">\n",
              "        \n",
              "  <svg xmlns=\"http://www.w3.org/2000/svg\" height=\"24px\"viewBox=\"0 0 24 24\"\n",
              "       width=\"24px\">\n",
              "    <path d=\"M0 0h24v24H0V0z\" fill=\"none\"/>\n",
              "    <path d=\"M18.56 5.44l.94 2.06.94-2.06 2.06-.94-2.06-.94-.94-2.06-.94 2.06-2.06.94zm-11 1L8.5 8.5l.94-2.06 2.06-.94-2.06-.94L8.5 2.5l-.94 2.06-2.06.94zm10 10l.94 2.06.94-2.06 2.06-.94-2.06-.94-.94-2.06-.94 2.06-2.06.94z\"/><path d=\"M17.41 7.96l-1.37-1.37c-.4-.4-.92-.59-1.43-.59-.52 0-1.04.2-1.43.59L10.3 9.45l-7.72 7.72c-.78.78-.78 2.05 0 2.83L4 21.41c.39.39.9.59 1.41.59.51 0 1.02-.2 1.41-.59l7.78-7.78 2.81-2.81c.8-.78.8-2.07 0-2.86zM5.41 20L4 18.59l7.72-7.72 1.47 1.35L5.41 20z\"/>\n",
              "  </svg>\n",
              "      </button>\n",
              "      \n",
              "  <style>\n",
              "    .colab-df-container {\n",
              "      display:flex;\n",
              "      flex-wrap:wrap;\n",
              "      gap: 12px;\n",
              "    }\n",
              "\n",
              "    .colab-df-convert {\n",
              "      background-color: #E8F0FE;\n",
              "      border: none;\n",
              "      border-radius: 50%;\n",
              "      cursor: pointer;\n",
              "      display: none;\n",
              "      fill: #1967D2;\n",
              "      height: 32px;\n",
              "      padding: 0 0 0 0;\n",
              "      width: 32px;\n",
              "    }\n",
              "\n",
              "    .colab-df-convert:hover {\n",
              "      background-color: #E2EBFA;\n",
              "      box-shadow: 0px 1px 2px rgba(60, 64, 67, 0.3), 0px 1px 3px 1px rgba(60, 64, 67, 0.15);\n",
              "      fill: #174EA6;\n",
              "    }\n",
              "\n",
              "    [theme=dark] .colab-df-convert {\n",
              "      background-color: #3B4455;\n",
              "      fill: #D2E3FC;\n",
              "    }\n",
              "\n",
              "    [theme=dark] .colab-df-convert:hover {\n",
              "      background-color: #434B5C;\n",
              "      box-shadow: 0px 1px 3px 1px rgba(0, 0, 0, 0.15);\n",
              "      filter: drop-shadow(0px 1px 2px rgba(0, 0, 0, 0.3));\n",
              "      fill: #FFFFFF;\n",
              "    }\n",
              "  </style>\n",
              "\n",
              "      <script>\n",
              "        const buttonEl =\n",
              "          document.querySelector('#df-a3236165-2fed-4ae6-9157-331bb331fa24 button.colab-df-convert');\n",
              "        buttonEl.style.display =\n",
              "          google.colab.kernel.accessAllowed ? 'block' : 'none';\n",
              "\n",
              "        async function convertToInteractive(key) {\n",
              "          const element = document.querySelector('#df-a3236165-2fed-4ae6-9157-331bb331fa24');\n",
              "          const dataTable =\n",
              "            await google.colab.kernel.invokeFunction('convertToInteractive',\n",
              "                                                     [key], {});\n",
              "          if (!dataTable) return;\n",
              "\n",
              "          const docLinkHtml = 'Like what you see? Visit the ' +\n",
              "            '<a target=\"_blank\" href=https://colab.research.google.com/notebooks/data_table.ipynb>data table notebook</a>'\n",
              "            + ' to learn more about interactive tables.';\n",
              "          element.innerHTML = '';\n",
              "          dataTable['output_type'] = 'display_data';\n",
              "          await google.colab.output.renderOutput(dataTable, element);\n",
              "          const docLink = document.createElement('div');\n",
              "          docLink.innerHTML = docLinkHtml;\n",
              "          element.appendChild(docLink);\n",
              "        }\n",
              "      </script>\n",
              "    </div>\n",
              "  </div>\n",
              "  "
            ],
            "text/plain": [
              "       Unnamed: 0                  cc_num  ... merch_long is_fraud\n",
              "count     7506.00                 7506.00  ...    7506.00  7506.00\n",
              "mean    624949.72   400357683719606400.00  ...     -89.92     1.00\n",
              "std     401056.01  1276871477748873216.00  ...      14.30     0.00\n",
              "min       2449.00          60416207185.00  ...    -166.55     1.00\n",
              "25%     239856.50      180042946491150.00  ...     -96.67     1.00\n",
              "50%     638162.00     3528040995648998.00  ...     -86.81     1.00\n",
              "75%     984921.50     4651007077623147.00  ...     -79.91     1.00\n",
              "max    1295733.00  4992346398065154048.00  ...     -67.57     1.00\n",
              "\n",
              "[8 rows x 11 columns]"
            ]
          },
          "metadata": {},
          "execution_count": 10
        }
      ]
    },
    {
      "cell_type": "code",
      "source": [
        "non_fraud.describe().apply(lambda s: s.apply('{0:.2f}'.format))"
      ],
      "metadata": {
        "id": "Y-CaQ_TU9EPr",
        "colab": {
          "base_uri": "https://localhost:8080/",
          "height": 279
        },
        "outputId": "6b483181-1279-41fc-ca94-66245b65c6d1"
      },
      "execution_count": null,
      "outputs": [
        {
          "output_type": "execute_result",
          "data": {
            "text/html": [
              "\n",
              "  <div id=\"df-2553b0f1-4eb7-49c9-a2e9-bb9ff18fffca\">\n",
              "    <div class=\"colab-df-container\">\n",
              "      <div>\n",
              "<style scoped>\n",
              "    .dataframe tbody tr th:only-of-type {\n",
              "        vertical-align: middle;\n",
              "    }\n",
              "\n",
              "    .dataframe tbody tr th {\n",
              "        vertical-align: top;\n",
              "    }\n",
              "\n",
              "    .dataframe thead th {\n",
              "        text-align: right;\n",
              "    }\n",
              "</style>\n",
              "<table border=\"1\" class=\"dataframe\">\n",
              "  <thead>\n",
              "    <tr style=\"text-align: right;\">\n",
              "      <th></th>\n",
              "      <th>Unnamed: 0</th>\n",
              "      <th>cc_num</th>\n",
              "      <th>amt</th>\n",
              "      <th>zip</th>\n",
              "      <th>lat</th>\n",
              "      <th>long</th>\n",
              "      <th>city_pop</th>\n",
              "      <th>unix_time</th>\n",
              "      <th>merch_lat</th>\n",
              "      <th>merch_long</th>\n",
              "      <th>is_fraud</th>\n",
              "    </tr>\n",
              "  </thead>\n",
              "  <tbody>\n",
              "    <tr>\n",
              "      <th>count</th>\n",
              "      <td>1289169.00</td>\n",
              "      <td>1289169.00</td>\n",
              "      <td>1289169.00</td>\n",
              "      <td>1289169.00</td>\n",
              "      <td>1289169.00</td>\n",
              "      <td>1289169.00</td>\n",
              "      <td>1289169.00</td>\n",
              "      <td>1289169.00</td>\n",
              "      <td>1289169.00</td>\n",
              "      <td>1289169.00</td>\n",
              "      <td>1289169.00</td>\n",
              "    </tr>\n",
              "    <tr>\n",
              "      <th>mean</th>\n",
              "      <td>648473.17</td>\n",
              "      <td>417290057695786368.00</td>\n",
              "      <td>67.67</td>\n",
              "      <td>48805.11</td>\n",
              "      <td>38.54</td>\n",
              "      <td>-90.23</td>\n",
              "      <td>88775.23</td>\n",
              "      <td>1349248612.02</td>\n",
              "      <td>38.54</td>\n",
              "      <td>-90.23</td>\n",
              "      <td>0.00</td>\n",
              "    </tr>\n",
              "    <tr>\n",
              "      <th>std</th>\n",
              "      <td>374152.59</td>\n",
              "      <td>1308989951701786880.00</td>\n",
              "      <td>154.01</td>\n",
              "      <td>26890.99</td>\n",
              "      <td>5.08</td>\n",
              "      <td>13.76</td>\n",
              "      <td>301806.55</td>\n",
              "      <td>12835136.65</td>\n",
              "      <td>5.11</td>\n",
              "      <td>13.77</td>\n",
              "      <td>0.00</td>\n",
              "    </tr>\n",
              "    <tr>\n",
              "      <th>min</th>\n",
              "      <td>0.00</td>\n",
              "      <td>60416207185.00</td>\n",
              "      <td>1.00</td>\n",
              "      <td>1257.00</td>\n",
              "      <td>20.03</td>\n",
              "      <td>-165.67</td>\n",
              "      <td>23.00</td>\n",
              "      <td>1325376018.00</td>\n",
              "      <td>19.03</td>\n",
              "      <td>-166.67</td>\n",
              "      <td>0.00</td>\n",
              "    </tr>\n",
              "    <tr>\n",
              "      <th>25%</th>\n",
              "      <td>324610.00</td>\n",
              "      <td>180042946491150.00</td>\n",
              "      <td>9.61</td>\n",
              "      <td>26237.00</td>\n",
              "      <td>34.62</td>\n",
              "      <td>-96.80</td>\n",
              "      <td>743.00</td>\n",
              "      <td>1338759022.00</td>\n",
              "      <td>34.73</td>\n",
              "      <td>-96.90</td>\n",
              "      <td>0.00</td>\n",
              "    </tr>\n",
              "    <tr>\n",
              "      <th>50%</th>\n",
              "      <td>648411.00</td>\n",
              "      <td>3521417320836166.00</td>\n",
              "      <td>47.28</td>\n",
              "      <td>48174.00</td>\n",
              "      <td>39.35</td>\n",
              "      <td>-87.48</td>\n",
              "      <td>2456.00</td>\n",
              "      <td>1349254228.00</td>\n",
              "      <td>39.37</td>\n",
              "      <td>-87.44</td>\n",
              "      <td>0.00</td>\n",
              "    </tr>\n",
              "    <tr>\n",
              "      <th>75%</th>\n",
              "      <td>972399.00</td>\n",
              "      <td>4642255475285942.00</td>\n",
              "      <td>82.54</td>\n",
              "      <td>72042.00</td>\n",
              "      <td>41.94</td>\n",
              "      <td>-80.16</td>\n",
              "      <td>20328.00</td>\n",
              "      <td>1359378150.00</td>\n",
              "      <td>41.96</td>\n",
              "      <td>-80.24</td>\n",
              "      <td>0.00</td>\n",
              "    </tr>\n",
              "    <tr>\n",
              "      <th>max</th>\n",
              "      <td>1296674.00</td>\n",
              "      <td>4992346398065154048.00</td>\n",
              "      <td>28948.90</td>\n",
              "      <td>99783.00</td>\n",
              "      <td>65.69</td>\n",
              "      <td>-67.95</td>\n",
              "      <td>2906700.00</td>\n",
              "      <td>1371816817.00</td>\n",
              "      <td>66.68</td>\n",
              "      <td>-66.95</td>\n",
              "      <td>0.00</td>\n",
              "    </tr>\n",
              "  </tbody>\n",
              "</table>\n",
              "</div>\n",
              "      <button class=\"colab-df-convert\" onclick=\"convertToInteractive('df-2553b0f1-4eb7-49c9-a2e9-bb9ff18fffca')\"\n",
              "              title=\"Convert this dataframe to an interactive table.\"\n",
              "              style=\"display:none;\">\n",
              "        \n",
              "  <svg xmlns=\"http://www.w3.org/2000/svg\" height=\"24px\"viewBox=\"0 0 24 24\"\n",
              "       width=\"24px\">\n",
              "    <path d=\"M0 0h24v24H0V0z\" fill=\"none\"/>\n",
              "    <path d=\"M18.56 5.44l.94 2.06.94-2.06 2.06-.94-2.06-.94-.94-2.06-.94 2.06-2.06.94zm-11 1L8.5 8.5l.94-2.06 2.06-.94-2.06-.94L8.5 2.5l-.94 2.06-2.06.94zm10 10l.94 2.06.94-2.06 2.06-.94-2.06-.94-.94-2.06-.94 2.06-2.06.94z\"/><path d=\"M17.41 7.96l-1.37-1.37c-.4-.4-.92-.59-1.43-.59-.52 0-1.04.2-1.43.59L10.3 9.45l-7.72 7.72c-.78.78-.78 2.05 0 2.83L4 21.41c.39.39.9.59 1.41.59.51 0 1.02-.2 1.41-.59l7.78-7.78 2.81-2.81c.8-.78.8-2.07 0-2.86zM5.41 20L4 18.59l7.72-7.72 1.47 1.35L5.41 20z\"/>\n",
              "  </svg>\n",
              "      </button>\n",
              "      \n",
              "  <style>\n",
              "    .colab-df-container {\n",
              "      display:flex;\n",
              "      flex-wrap:wrap;\n",
              "      gap: 12px;\n",
              "    }\n",
              "\n",
              "    .colab-df-convert {\n",
              "      background-color: #E8F0FE;\n",
              "      border: none;\n",
              "      border-radius: 50%;\n",
              "      cursor: pointer;\n",
              "      display: none;\n",
              "      fill: #1967D2;\n",
              "      height: 32px;\n",
              "      padding: 0 0 0 0;\n",
              "      width: 32px;\n",
              "    }\n",
              "\n",
              "    .colab-df-convert:hover {\n",
              "      background-color: #E2EBFA;\n",
              "      box-shadow: 0px 1px 2px rgba(60, 64, 67, 0.3), 0px 1px 3px 1px rgba(60, 64, 67, 0.15);\n",
              "      fill: #174EA6;\n",
              "    }\n",
              "\n",
              "    [theme=dark] .colab-df-convert {\n",
              "      background-color: #3B4455;\n",
              "      fill: #D2E3FC;\n",
              "    }\n",
              "\n",
              "    [theme=dark] .colab-df-convert:hover {\n",
              "      background-color: #434B5C;\n",
              "      box-shadow: 0px 1px 3px 1px rgba(0, 0, 0, 0.15);\n",
              "      filter: drop-shadow(0px 1px 2px rgba(0, 0, 0, 0.3));\n",
              "      fill: #FFFFFF;\n",
              "    }\n",
              "  </style>\n",
              "\n",
              "      <script>\n",
              "        const buttonEl =\n",
              "          document.querySelector('#df-2553b0f1-4eb7-49c9-a2e9-bb9ff18fffca button.colab-df-convert');\n",
              "        buttonEl.style.display =\n",
              "          google.colab.kernel.accessAllowed ? 'block' : 'none';\n",
              "\n",
              "        async function convertToInteractive(key) {\n",
              "          const element = document.querySelector('#df-2553b0f1-4eb7-49c9-a2e9-bb9ff18fffca');\n",
              "          const dataTable =\n",
              "            await google.colab.kernel.invokeFunction('convertToInteractive',\n",
              "                                                     [key], {});\n",
              "          if (!dataTable) return;\n",
              "\n",
              "          const docLinkHtml = 'Like what you see? Visit the ' +\n",
              "            '<a target=\"_blank\" href=https://colab.research.google.com/notebooks/data_table.ipynb>data table notebook</a>'\n",
              "            + ' to learn more about interactive tables.';\n",
              "          element.innerHTML = '';\n",
              "          dataTable['output_type'] = 'display_data';\n",
              "          await google.colab.output.renderOutput(dataTable, element);\n",
              "          const docLink = document.createElement('div');\n",
              "          docLink.innerHTML = docLinkHtml;\n",
              "          element.appendChild(docLink);\n",
              "        }\n",
              "      </script>\n",
              "    </div>\n",
              "  </div>\n",
              "  "
            ],
            "text/plain": [
              "       Unnamed: 0                  cc_num  ...  merch_long    is_fraud\n",
              "count  1289169.00              1289169.00  ...  1289169.00  1289169.00\n",
              "mean    648473.17   417290057695786368.00  ...      -90.23        0.00\n",
              "std     374152.59  1308989951701786880.00  ...       13.77        0.00\n",
              "min          0.00          60416207185.00  ...     -166.67        0.00\n",
              "25%     324610.00      180042946491150.00  ...      -96.90        0.00\n",
              "50%     648411.00     3521417320836166.00  ...      -87.44        0.00\n",
              "75%     972399.00     4642255475285942.00  ...      -80.24        0.00\n",
              "max    1296674.00  4992346398065154048.00  ...      -66.95        0.00\n",
              "\n",
              "[8 rows x 11 columns]"
            ]
          },
          "metadata": {},
          "execution_count": 11
        }
      ]
    },
    {
      "cell_type": "code",
      "source": [
        "fraud['trans_date_trans_time'] = pd.to_datetime(fraud['trans_date_trans_time'])\n",
        "fraud.dtypes['trans_date_trans_time']\n",
        "\n",
        "fraud['transaction_hour'] = fraud['trans_date_trans_time'].dt.hour\n",
        "\n",
        "data['trans_date_trans_time'] = pd.to_datetime(data['trans_date_trans_time'])\n",
        "data.dtypes['trans_date_trans_time']\n",
        "\n",
        "data['transaction_hour'] = data['trans_date_trans_time'].dt.hour"
      ],
      "metadata": {
        "id": "OPwUOHtYwMna"
      },
      "execution_count": null,
      "outputs": []
    },
    {
      "cell_type": "code",
      "source": [
        "fig, ax = plt.subplots(1,2,figsize=(20,5))\n",
        "ax[0].hist(data['transaction_hour'], bins=50)\n",
        "ax[1].hist(fraud['transaction_hour'], bins=50)\n",
        "\n",
        "ax[0].set_title('Overall hours of tensaction')\n",
        "ax[1].set_title('Fraud hours transaction')\n",
        "\n",
        "ax[0].set_xlabel('transaction hours')\n",
        "ax[0].set_ylabel('count')\n",
        "\n",
        "ax[1].set_xlabel('transaction hours')\n",
        "\n",
        "plt.show()"
      ],
      "metadata": {
        "id": "uQr9z4lI9Gr5",
        "colab": {
          "base_uri": "https://localhost:8080/",
          "height": 350
        },
        "outputId": "01a81d37-adb0-4b4a-98f9-b72d38214caa"
      },
      "execution_count": null,
      "outputs": [
        {
          "output_type": "display_data",
          "data": {
            "image/png": "[encoded data removed]",
            "text/plain": [
              "<Figure size 1440x360 with 2 Axes>"
            ]
          },
          "metadata": {
            "needs_background": "light"
          }
        }
      ]
    },
    {
      "cell_type": "code",
      "source": [
        "fig, ax = plt.subplots(1,2,figsize=(20,5))\n",
        "ax[0].hist(data['distance'], bins=100)\n",
        "ax[1].hist(fraud['distance'], bins=100)\n",
        "\n",
        "ax[0].set_title('distance distribution for overall trasaction')\n",
        "ax[1].set_title('distance distribution for fradulent trasaction')\n",
        "\n",
        "ax[0].set_xlabel('distance between customer and merchant')\n",
        "ax[0].set_ylabel('count')\n",
        "\n",
        "ax[1].set_xlabel('distance between customer and merchant')\n",
        "\n",
        "plt.show()"
      ],
      "metadata": {
        "id": "agblwHDT9R3C"
      },
      "execution_count": null,
      "outputs": []
    },
    {
      "cell_type": "code",
      "source": [
        "fig, ax = plt.subplots(1,3,figsize=(20,5))\n",
        "ax[0].hist(data[data['amt']<=1500]['amt'], bins=50)\n",
        "ax[1].hist(data[(data['is_fraud']==0) & (data['amt']<=1500)]['amt'], bins=50)\n",
        "ax[2].hist(data[(data['is_fraud']==1) & (data['amt']<=1500)]['amt'], bins=50)\n",
        "\n",
        "ax[0].set_title('Overall Amt Distribution')\n",
        "ax[1].set_title('Non Fraud Amt Distribution')\n",
        "ax[2].set_title('Fraud Amt Distribution')\n",
        "\n",
        "ax[0].set_xlabel('Transaction Amount')\n",
        "ax[0].set_ylabel('#.of Transactions')\n",
        "\n",
        "ax[1].set_xlabel('Transaction Amount')\n",
        "ax[2].set_xlabel('Transaction Amount')\n",
        "plt.show()"
      ],
      "metadata": {
        "id": "esI68JUz9VVj",
        "colab": {
          "base_uri": "https://localhost:8080/",
          "height": 350
        },
        "outputId": "e6bd8e25-f41e-46f6-b8cd-2b1ef080d7df"
      },
      "execution_count": null,
      "outputs": [
        {
          "output_type": "display_data",
          "data": {
            "image/png": "[encoded data removed]",
            "text/plain": [
              "<Figure size 1440x360 with 3 Axes>"
            ]
          },
          "metadata": {
            "needs_background": "light"
          }
        }
      ]
    },
    {
      "cell_type": "markdown",
      "source": [
        "# Feature Engineering "
      ],
      "metadata": {
        "id": "ps6jRWTJ9eHn"
      }
    },
    {
      "cell_type": "code",
      "execution_count": null,
      "metadata": {
        "id": "dWoB-N9aakgD",
        "colab": {
          "base_uri": "https://localhost:8080/",
          "height": 673
        },
        "outputId": "3335c924-7b61-4c09-9fe1-463e40285999"
      },
      "outputs": [
        {
          "output_type": "execute_result",
          "data": {
            "text/html": [
              "\n",
              "  <div id=\"df-6bafd54c-d2bc-4de1-8015-f48cbea8d638\">\n",
              "    <div class=\"colab-df-container\">\n",
              "      <div>\n",
              "<style scoped>\n",
              "    .dataframe tbody tr th:only-of-type {\n",
              "        vertical-align: middle;\n",
              "    }\n",
              "\n",
              "    .dataframe tbody tr th {\n",
              "        vertical-align: top;\n",
              "    }\n",
              "\n",
              "    .dataframe thead th {\n",
              "        text-align: right;\n",
              "    }\n",
              "</style>\n",
              "<table border=\"1\" class=\"dataframe\">\n",
              "  <thead>\n",
              "    <tr style=\"text-align: right;\">\n",
              "      <th></th>\n",
              "      <th>transaction_hour</th>\n",
              "      <th>fraud_rate%_by_hour</th>\n",
              "    </tr>\n",
              "  </thead>\n",
              "  <tbody>\n",
              "    <tr>\n",
              "      <th>0</th>\n",
              "      <td>0</td>\n",
              "      <td>1.494047</td>\n",
              "    </tr>\n",
              "    <tr>\n",
              "      <th>1</th>\n",
              "      <td>0</td>\n",
              "      <td>1.494047</td>\n",
              "    </tr>\n",
              "    <tr>\n",
              "      <th>2</th>\n",
              "      <td>0</td>\n",
              "      <td>1.494047</td>\n",
              "    </tr>\n",
              "    <tr>\n",
              "      <th>3</th>\n",
              "      <td>0</td>\n",
              "      <td>1.494047</td>\n",
              "    </tr>\n",
              "    <tr>\n",
              "      <th>4</th>\n",
              "      <td>0</td>\n",
              "      <td>1.494047</td>\n",
              "    </tr>\n",
              "    <tr>\n",
              "      <th>...</th>\n",
              "      <td>...</td>\n",
              "      <td>...</td>\n",
              "    </tr>\n",
              "    <tr>\n",
              "      <th>1296670</th>\n",
              "      <td>12</td>\n",
              "      <td>0.102671</td>\n",
              "    </tr>\n",
              "    <tr>\n",
              "      <th>1296671</th>\n",
              "      <td>12</td>\n",
              "      <td>0.102671</td>\n",
              "    </tr>\n",
              "    <tr>\n",
              "      <th>1296672</th>\n",
              "      <td>12</td>\n",
              "      <td>0.102671</td>\n",
              "    </tr>\n",
              "    <tr>\n",
              "      <th>1296673</th>\n",
              "      <td>12</td>\n",
              "      <td>0.102671</td>\n",
              "    </tr>\n",
              "    <tr>\n",
              "      <th>1296674</th>\n",
              "      <td>12</td>\n",
              "      <td>0.102671</td>\n",
              "    </tr>\n",
              "  </tbody>\n",
              "</table>\n",
              "<p>1296675 rows × 2 columns</p>\n",
              "</div>\n",
              "      <button class=\"colab-df-convert\" onclick=\"convertToInteractive('df-6bafd54c-d2bc-4de1-8015-f48cbea8d638')\"\n",
              "              title=\"Convert this dataframe to an interactive table.\"\n",
              "              style=\"display:none;\">\n",
              "        \n",
              "  <svg xmlns=\"http://www.w3.org/2000/svg\" height=\"24px\"viewBox=\"0 0 24 24\"\n",
              "       width=\"24px\">\n",
              "    <path d=\"M0 0h24v24H0V0z\" fill=\"none\"/>\n",
              "    <path d=\"M18.56 5.44l.94 2.06.94-2.06 2.06-.94-2.06-.94-.94-2.06-.94 2.06-2.06.94zm-11 1L8.5 8.5l.94-2.06 2.06-.94-2.06-.94L8.5 2.5l-.94 2.06-2.06.94zm10 10l.94 2.06.94-2.06 2.06-.94-2.06-.94-.94-2.06-.94 2.06-2.06.94z\"/><path d=\"M17.41 7.96l-1.37-1.37c-.4-.4-.92-.59-1.43-.59-.52 0-1.04.2-1.43.59L10.3 9.45l-7.72 7.72c-.78.78-.78 2.05 0 2.83L4 21.41c.39.39.9.59 1.41.59.51 0 1.02-.2 1.41-.59l7.78-7.78 2.81-2.81c.8-.78.8-2.07 0-2.86zM5.41 20L4 18.59l7.72-7.72 1.47 1.35L5.41 20z\"/>\n",
              "  </svg>\n",
              "      </button>\n",
              "      \n",
              "  <style>\n",
              "    .colab-df-container {\n",
              "      display:flex;\n",
              "      flex-wrap:wrap;\n",
              "      gap: 12px;\n",
              "    }\n",
              "\n",
              "    .colab-df-convert {\n",
              "      background-color: #E8F0FE;\n",
              "      border: none;\n",
              "      border-radius: 50%;\n",
              "      cursor: pointer;\n",
              "      display: none;\n",
              "      fill: #1967D2;\n",
              "      height: 32px;\n",
              "      padding: 0 0 0 0;\n",
              "      width: 32px;\n",
              "    }\n",
              "\n",
              "    .colab-df-convert:hover {\n",
              "      background-color: #E2EBFA;\n",
              "      box-shadow: 0px 1px 2px rgba(60, 64, 67, 0.3), 0px 1px 3px 1px rgba(60, 64, 67, 0.15);\n",
              "      fill: #174EA6;\n",
              "    }\n",
              "\n",
              "    [theme=dark] .colab-df-convert {\n",
              "      background-color: #3B4455;\n",
              "      fill: #D2E3FC;\n",
              "    }\n",
              "\n",
              "    [theme=dark] .colab-df-convert:hover {\n",
              "      background-color: #434B5C;\n",
              "      box-shadow: 0px 1px 3px 1px rgba(0, 0, 0, 0.15);\n",
              "      filter: drop-shadow(0px 1px 2px rgba(0, 0, 0, 0.3));\n",
              "      fill: #FFFFFF;\n",
              "    }\n",
              "  </style>\n",
              "\n",
              "      <script>\n",
              "        const buttonEl =\n",
              "          document.querySelector('#df-6bafd54c-d2bc-4de1-8015-f48cbea8d638 button.colab-df-convert');\n",
              "        buttonEl.style.display =\n",
              "          google.colab.kernel.accessAllowed ? 'block' : 'none';\n",
              "\n",
              "        async function convertToInteractive(key) {\n",
              "          const element = document.querySelector('#df-6bafd54c-d2bc-4de1-8015-f48cbea8d638');\n",
              "          const dataTable =\n",
              "            await google.colab.kernel.invokeFunction('convertToInteractive',\n",
              "                                                     [key], {});\n",
              "          if (!dataTable) return;\n",
              "\n",
              "          const docLinkHtml = 'Like what you see? Visit the ' +\n",
              "            '<a target=\"_blank\" href=https://colab.research.google.com/notebooks/data_table.ipynb>data table notebook</a>'\n",
              "            + ' to learn more about interactive tables.';\n",
              "          element.innerHTML = '';\n",
              "          dataTable['output_type'] = 'display_data';\n",
              "          await google.colab.output.renderOutput(dataTable, element);\n",
              "          const docLink = document.createElement('div');\n",
              "          docLink.innerHTML = docLinkHtml;\n",
              "          element.appendChild(docLink);\n",
              "        }\n",
              "      </script>\n",
              "    </div>\n",
              "  </div>\n",
              "  "
            ],
            "text/plain": [
              "         transaction_hour  fraud_rate%_by_hour\n",
              "0                       0             1.494047\n",
              "1                       0             1.494047\n",
              "2                       0             1.494047\n",
              "3                       0             1.494047\n",
              "4                       0             1.494047\n",
              "...                   ...                  ...\n",
              "1296670                12             0.102671\n",
              "1296671                12             0.102671\n",
              "1296672                12             0.102671\n",
              "1296673                12             0.102671\n",
              "1296674                12             0.102671\n",
              "\n",
              "[1296675 rows x 2 columns]"
            ]
          },
          "metadata": {},
          "execution_count": 28
        },
        {
          "output_type": "stream",
          "name": "stdout",
          "text": [
            "Warning: total number of rows (1296675) exceeds max_rows (20000). Limiting to first (20000) rows.\n"
          ]
        }
      ],
      "source": [
        "# calculating % of fraud happened in each hour\n",
        "data['trans_date_trans_time'] = pd.to_datetime(data['trans_date_trans_time'])\n",
        "data.dtypes['trans_date_trans_time']\n",
        "\n",
        "data['transaction_hour'] = data['trans_date_trans_time'].dt.hour\n",
        "\n",
        "t = data.groupby('transaction_hour').count()\n",
        "t = t['trans_num']\n",
        "t = pd.DataFrame(t)\n",
        "t = t.rename(columns={'trans_num':'Actual_transaction'})\n",
        "\n",
        "fraud_t = data.loc[data['is_fraud']==1]\n",
        "tf = fraud_t.groupby('transaction_hour').count()\n",
        "tf = tf['trans_num']\n",
        "\n",
        "time = pd.concat([t, tf], axis=1)\n",
        "time[['Actual_transaction','trans_num']]\n",
        "\n",
        "time = time.rename(columns={'trans_num':'Fradulent_transaction'})\n",
        "\n",
        "time['Fradulent_transaction'] = time['Fradulent_transaction'].fillna(0)\n",
        "\n",
        "time['fraud_rate%_by_hour'] = (time['Fradulent_transaction'] / time['Actual_transaction']) * 100\n",
        "\n",
        "time = time.sort_values(['fraud_rate%_by_hour'], ascending=False)\n",
        "fr_time = pd.DataFrame(time['fraud_rate%_by_hour'])\n",
        "\n",
        "act_time = data['transaction_hour']\n",
        "act_time = pd.DataFrame(act_time)\n",
        "\n",
        "new_time = pd.merge(act_time, fr_time, how='left', on='transaction_hour')\n",
        "new_time"
      ]
    },
    {
      "cell_type": "code",
      "execution_count": null,
      "metadata": {
        "id": "COSBVwqiazts"
      },
      "outputs": [],
      "source": [
        "data['transaction_hour'] = new_time['fraud_rate%_by_hour']"
      ]
    },
    {
      "cell_type": "code",
      "execution_count": null,
      "metadata": {
        "id": "rf4H5_3Ga2zm"
      },
      "outputs": [],
      "source": [
        "# calculating % of fraud happened profession wise - assigning high risk and low risk to the profession accordingly\n",
        "t_categ_anal = data.groupby('category')[['trans_num']].count().reset_index()\n",
        "t_categ_anal.rename({'trans_num':'total_count_of_trasactions'}, axis=1)\n",
        "\n",
        "f_categ_anal = data[data['is_fraud']==1].groupby('category')[['trans_num']].count().reset_index()\n",
        "f_categ_anal.rename({'trans_num':'count_of_fraud_trasactions'}, axis=1)\n",
        "\n",
        "categ_anal = pd.merge(t_categ_anal, f_categ_anal, how='left', on='category')\n",
        "categ_anal['fraud_perc'] = (categ_anal['trans_num_y'] / categ_anal['trans_num_x']) * 100\n",
        "categ_anal = categ_anal.sort_values(['fraud_perc'], ascending=False)\n",
        "\n",
        "t_job_anal = data.groupby('job')[['trans_num']].count().reset_index()\n",
        "t_job_anal = t_job_anal.sort_values(['trans_num'], ascending=False)\n",
        "\n",
        "f_job_anal = data[data['is_fraud']==1].groupby('job')[['trans_num']].count().reset_index()\n",
        "f_job_anal = f_job_anal.sort_values(['trans_num'], ascending=False)\n",
        "\n",
        "job_anal = pd.merge(t_job_anal, f_job_anal, how='inner', on='job')\n",
        "job_anal['fraud_perc'] = (job_anal['trans_num_y'] / job_anal['trans_num_x']) * 100\n",
        "job_anal = job_anal.sort_values(['fraud_perc'], ascending=False)\n",
        "high_fraud = job_anal[job_anal['fraud_perc'] > 90]\n",
        "#high_fraud = pd.DataFrame(high_fraud['job'])\n",
        "high_fraud_job = high_fraud['job'].tolist()\n",
        "\n",
        "new_job = []\n",
        "\n",
        "for job in data['job']:\n",
        "  for fraud_job in high_fraud_job:\n",
        "    if fraud_job == job:\n",
        "      new_job.append('high risk')\n",
        "      break\n",
        "  else:\n",
        "    new_job.append('low risk')\n",
        "\n",
        "data['job'] = new_job"
      ]
    },
    {
      "cell_type": "code",
      "execution_count": null,
      "metadata": {
        "id": "LHoanfq8a7fZ"
      },
      "outputs": [],
      "source": [
        "enc = OneHotEncoder()\n",
        "enc_df = pd.DataFrame(enc.fit_transform(data[['job']]).toarray())\n",
        "enc_df\n",
        "data = data.join(enc_df)"
      ]
    },
    {
      "cell_type": "code",
      "execution_count": null,
      "metadata": {
        "id": "-vPyPXaga_q4"
      },
      "outputs": [],
      "source": [
        "data.rename({0:'low risk job', 1:'high risk job'}, axis=1, inplace=True)"
      ]
    },
    {
      "cell_type": "code",
      "execution_count": null,
      "metadata": {
        "id": "8yGoQosUbBzd"
      },
      "outputs": [],
      "source": [
        "#calculating % fraud zip code wise\n",
        "z = data.groupby('zip').count()\n",
        "z = z['city']\n",
        "z = pd.DataFrame(z)\n",
        "z = z.rename(columns={'city':'Actual_transaction'})\n",
        "\n",
        "fraud = data.loc[data['is_fraud']==1]\n",
        "zf = fraud.groupby('zip').count()\n",
        "zf = zf['city']\n",
        "\n",
        "zip = pd.concat([z, zf], axis=1)\n",
        "zip[['Actual_transaction','city']]\n",
        "\n",
        "zip = zip.rename(columns={'city':'Fradulent_transaction'})\n",
        "\n",
        "zip['Fradulent_transaction'] = zip['Fradulent_transaction'].fillna(0)\n",
        "\n",
        "zip['fraud_rate%'] = (zip['Fradulent_transaction'] / zip['Actual_transaction']) * 100\n",
        "\n",
        "zip = zip.sort_values(['fraud_rate%'], ascending=False)\n",
        "fr_zip = pd.DataFrame(zip['fraud_rate%'])\n",
        "\n",
        "# Replacing Zip codes with fraud rates\n",
        "act_zip = data['zip']\n",
        "act_zip = pd.DataFrame(act_zip)\n",
        "\n",
        "new_zip = pd.merge(act_zip, fr_zip, how='left', on='zip')\n",
        "\n",
        "data['zip'] = new_zip['fraud_rate%']\n",
        "data['zip']"
      ]
    },
    {
      "cell_type": "code",
      "execution_count": null,
      "metadata": {
        "id": "X7R6u9pNbGgE"
      },
      "outputs": [],
      "source": [
        "# normalising amount column\n",
        "data['amt'] = np.log(data['amt'])\n",
        "data['amt'].skew()"
      ]
    },
    {
      "cell_type": "code",
      "execution_count": null,
      "metadata": {
        "id": "RCSupvCsbJcV"
      },
      "outputs": [],
      "source": [
        "enc = OneHotEncoder()\n",
        "enc_df = pd.DataFrame(enc.fit_transform(data[['gender']]).toarray())\n",
        "enc_df\n",
        "data = data.join(enc_df)"
      ]
    },
    {
      "cell_type": "code",
      "execution_count": null,
      "metadata": {
        "id": "VOctPi6TbMKC"
      },
      "outputs": [],
      "source": [
        "data.rename({0:'female', 1:'male'}, axis=1, inplace=True)"
      ]
    },
    {
      "cell_type": "code",
      "execution_count": null,
      "metadata": {
        "id": "7tKv6hZQbOuw"
      },
      "outputs": [],
      "source": [
        "data['category'].replace({'misc_net':1, 'grocery_pos':2, 'entertainment':3, 'gas_transport':4, 'misc_pos':5, 'grocery_net':6, 'shopping_net':7, 'shopping_pos':8, 'food_dining':9, 'personal_care':10, 'health_fitness':11, 'travel':12, 'kids_pets':13, 'home':14})"
      ]
    },
    {
      "cell_type": "code",
      "execution_count": null,
      "metadata": {
        "id": "8VHwo1rtbRq0"
      },
      "outputs": [],
      "source": [
        "enc = OneHotEncoder()\n",
        "enc_df = pd.DataFrame(enc.fit_transform(data[['category']]).toarray())\n",
        "enc_df\n",
        "data = data.join(enc_df)"
      ]
    },
    {
      "cell_type": "code",
      "execution_count": null,
      "metadata": {
        "id": "dRKJyYB3bUQs"
      },
      "outputs": [],
      "source": [
        "data.rename({0:'misc_net', 1:'grocery_pos', 2:'entertainment', 3:'gas_transport', 4:'misc_pos', 5:'grocery_net', 6:'shopping_net', 7:'shopping_pos', 8:'food_dining', 9:'personal_care', 10:'health_fitness', 11:'travel', 12:'kids_pets', 13:'home'}, axis=1, inplace=True)"
      ]
    },
    {
      "cell_type": "code",
      "execution_count": null,
      "metadata": {
        "id": "pmT2QtS5bXRi"
      },
      "outputs": [],
      "source": [
        "data['day_of_week'] = data['trans_date_trans_time'].dt.day_name()\n",
        "data['day_of_week']"
      ]
    },
    {
      "cell_type": "code",
      "execution_count": null,
      "metadata": {
        "id": "GvfnpM-tbaRt"
      },
      "outputs": [],
      "source": [
        "label_encoder = preprocessing.LabelEncoder()\n",
        "data['day_of_week'] = label_encoder.fit_transform(data['day_of_week'])\n",
        "data['day_of_week'].unique()"
      ]
    },
    {
      "cell_type": "code",
      "execution_count": null,
      "metadata": {
        "id": "EWhOAe_-bcgo"
      },
      "outputs": [],
      "source": [
        "#Target encoding of transaction hour\n",
        "temp = data['transaction_hour'].value_counts().to_dict()\n",
        "data['Fraud_by_hour'] = data['transaction_hour'].map(temp)\n",
        "data['Fraud_by_hour']"
      ]
    },
    {
      "cell_type": "code",
      "execution_count": null,
      "metadata": {
        "id": "ku6Gt8Gfb3j5"
      },
      "outputs": [],
      "source": [
        "#target encoding of address = street + city + state\n",
        "data['address'] = data['street'] + data['city'] + data['state']\n",
        "temp = data['address'].value_counts().to_dict()\n",
        "data['address_fe'] = data['address'].map(temp)\n",
        "data['address_fe']"
      ]
    },
    {
      "cell_type": "code",
      "execution_count": null,
      "metadata": {
        "id": "EXQhzvgwcB96"
      },
      "outputs": [],
      "source": [
        "data.columns"
      ]
    },
    {
      "cell_type": "code",
      "execution_count": null,
      "metadata": {
        "id": "QJX8X3e5b5sh"
      },
      "outputs": [],
      "source": [
        "Y = data['is_fraud']"
      ]
    },
    {
      "cell_type": "code",
      "execution_count": null,
      "metadata": {
        "id": "9QiCxhPacI2m"
      },
      "outputs": [],
      "source": [
        "#data.drop(columns=['Unnamed: 0','is_fraud','trans_date_trans_time','dob','trans_num','unix_time','merch_lat','merch_long','cc_num', 'street','city','state','lat','long','merchant','category', 'first','last','gender', 'job', 'female', 'low risk job'], axis=1, inplace=True)"
      ]
    },
    {
      "cell_type": "code",
      "execution_count": null,
      "metadata": {
        "id": "Ul0GzqjjcQBJ"
      },
      "outputs": [],
      "source": [
        "X = data.copy()"
      ]
    },
    {
      "cell_type": "markdown",
      "source": [
        "Train test split"
      ],
      "metadata": {
        "id": "HepmB-yH-oiK"
      }
    },
    {
      "cell_type": "code",
      "execution_count": null,
      "metadata": {
        "colab": {
          "base_uri": "https://localhost:8080/"
        },
        "id": "m73vnrsocbTE",
        "outputId": "c834966b-0341-49c4-98e0-b99294ac9cc9"
      },
      "outputs": [
        {
          "name": "stdout",
          "output_type": "stream",
          "text": [
            "(907672, 46) (389003, 46) (907672,) (389003,)\n"
          ]
        }
      ],
      "source": [
        "X_train, X_test, y_train, y_test = train_test_split(X, Y, test_size=0.30)\n",
        "print(X_train.shape, X_test.shape, y_train.shape, y_test.shape)"
      ]
    },
    {
      "cell_type": "code",
      "execution_count": null,
      "metadata": {
        "id": "5zw2CW_IfuOA"
      },
      "outputs": [],
      "source": [
        "X_train.columns"
      ]
    },
    {
      "cell_type": "markdown",
      "source": [
        "Aggregate encoding done after train test split - as the encoding is done based on the statistical properties like avg, std"
      ],
      "metadata": {
        "id": "tDMSGosT-spn"
      }
    },
    {
      "cell_type": "code",
      "execution_count": null,
      "metadata": {
        "id": "Q8PfBLiscvB9"
      },
      "outputs": [],
      "source": [
        "X_train['cust_det'] = X_train['first'] + X_train['last'] + X_train['cc_num'].map(str)"
      ]
    },
    {
      "cell_type": "code",
      "execution_count": null,
      "metadata": {
        "id": "E0BVe8fmnq5T"
      },
      "outputs": [],
      "source": [
        "X_test['cust_det'] = X_test['first'] + X_test['last'] + X_test['cc_num'].map(str)"
      ]
    },
    {
      "cell_type": "code",
      "execution_count": null,
      "metadata": {
        "id": "N-Ri-hI4fXQO"
      },
      "outputs": [],
      "source": [
        "#AE\n",
        "temp = X_train.groupby('cust_det')['distance'].agg(['std']).rename({'std':'cust_std_dist'}, axis=1)\n",
        "X_train = pd.merge(X_train,temp,on='cust_det',how='left')"
      ]
    },
    {
      "cell_type": "code",
      "execution_count": null,
      "metadata": {
        "id": "4Q-UhmU3fbrU"
      },
      "outputs": [],
      "source": [
        "#AE\n",
        "temp = X_train.groupby('cust_det')['amt'].agg(['mean']).rename({'mean':'tran_mean_cust'}, axis=1)\n",
        "X_train = pd.merge(X_train,temp,on='cust_det',how='left')\n",
        "X_train['tran_mean_cust']"
      ]
    },
    {
      "cell_type": "code",
      "execution_count": null,
      "metadata": {
        "id": "tv9v82XTnzEB"
      },
      "outputs": [],
      "source": [
        "temp = X_test.groupby('cust_det')['amt'].agg(['mean']).rename({'mean':'tran_mean_cust'}, axis=1)\n",
        "X_test = pd.merge(X_test,temp,on='cust_det',how='left')\n",
        "X_test['tran_mean_cust']"
      ]
    },
    {
      "cell_type": "code",
      "execution_count": null,
      "metadata": {
        "id": "X5pAPnHqfeyF"
      },
      "outputs": [],
      "source": [
        "#AE\n",
        "temp = X_train.groupby('cust_det')['amt'].agg(['std']).rename({'std':'tran_std_cust'}, axis=1)\n",
        "X_train = pd.merge(X_train,temp,on='cust_det',how='left')\n",
        "X_train['tran_std_cust']"
      ]
    },
    {
      "cell_type": "code",
      "execution_count": null,
      "metadata": {
        "id": "eyE_jz9PoAuL"
      },
      "outputs": [],
      "source": [
        "#AE\n",
        "temp = X_test.groupby('cust_det')['amt'].agg(['std']).rename({'std':'tran_std_cust'}, axis=1)\n",
        "X_test = pd.merge(X_test,temp,on='cust_det',how='left')\n",
        "X_test['tran_std_cust']"
      ]
    },
    {
      "cell_type": "code",
      "execution_count": null,
      "metadata": {
        "id": "_kFLK8nmlAH4"
      },
      "outputs": [],
      "source": [
        "X_train.drop(columns=['Unnamed: 0','cust_det','address','is_fraud','trans_date_trans_time','dob','trans_num','unix_time','merch_lat','merch_long','cc_num', 'street','city','state','lat','long','merchant','category', 'first','last','gender', 'job', 'female', 'low risk job'], axis=1, inplace=True)"
      ]
    },
    {
      "cell_type": "code",
      "execution_count": null,
      "metadata": {
        "id": "IbF33gVLoH7l"
      },
      "outputs": [],
      "source": [
        "X_test.drop(columns=['Unnamed: 0','cust_det','address','is_fraud','trans_date_trans_time','dob','trans_num','unix_time','merch_lat','merch_long','cc_num', 'street','city','state','lat','long','merchant','category', 'first','last','gender', 'job', 'female', 'low risk job'], axis=1, inplace=True)"
      ]
    },
    {
      "cell_type": "code",
      "execution_count": null,
      "metadata": {
        "colab": {
          "base_uri": "https://localhost:8080/",
          "height": 261
        },
        "id": "RGZ-7xQ9oncS",
        "outputId": "04ee9c27-508e-49c9-99ba-adc4932605d4"
      },
      "outputs": [
        {
          "data": {
            "text/html": [
              "<div>\n",
              "<style scoped>\n",
              "    .dataframe tbody tr th:only-of-type {\n",
              "        vertical-align: middle;\n",
              "    }\n",
              "\n",
              "    .dataframe tbody tr th {\n",
              "        vertical-align: top;\n",
              "    }\n",
              "\n",
              "    .dataframe thead th {\n",
              "        text-align: right;\n",
              "    }\n",
              "</style>\n",
              "<table border=\"1\" class=\"dataframe\">\n",
              "  <thead>\n",
              "    <tr style=\"text-align: right;\">\n",
              "      <th></th>\n",
              "      <th>amt</th>\n",
              "      <th>zip</th>\n",
              "      <th>city_pop</th>\n",
              "      <th>transaction_hour</th>\n",
              "      <th>high risk job</th>\n",
              "      <th>male</th>\n",
              "      <th>misc_net</th>\n",
              "      <th>grocery_pos</th>\n",
              "      <th>entertainment</th>\n",
              "      <th>gas_transport</th>\n",
              "      <th>misc_pos</th>\n",
              "      <th>grocery_net</th>\n",
              "      <th>shopping_net</th>\n",
              "      <th>shopping_pos</th>\n",
              "      <th>food_dining</th>\n",
              "      <th>personal_care</th>\n",
              "      <th>health_fitness</th>\n",
              "      <th>travel</th>\n",
              "      <th>kids_pets</th>\n",
              "      <th>home</th>\n",
              "      <th>day_of_week</th>\n",
              "      <th>Fraud_by_hour</th>\n",
              "      <th>address_fe</th>\n",
              "      <th>tran_mean_cust</th>\n",
              "      <th>tran_std_cust</th>\n",
              "    </tr>\n",
              "  </thead>\n",
              "  <tbody>\n",
              "    <tr>\n",
              "      <th>0</th>\n",
              "      <td>4.429506</td>\n",
              "      <td>0.000000</td>\n",
              "      <td>4056</td>\n",
              "      <td>0.132542</td>\n",
              "      <td>1.0</td>\n",
              "      <td>0.0</td>\n",
              "      <td>1.0</td>\n",
              "      <td>0.0</td>\n",
              "      <td>0.0</td>\n",
              "      <td>0.0</td>\n",
              "      <td>0.0</td>\n",
              "      <td>0.0</td>\n",
              "      <td>0.0</td>\n",
              "      <td>0.0</td>\n",
              "      <td>0.0</td>\n",
              "      <td>0.0</td>\n",
              "      <td>0.0</td>\n",
              "      <td>0.0</td>\n",
              "      <td>0.0</td>\n",
              "      <td>0.0</td>\n",
              "      <td>3</td>\n",
              "      <td>64885</td>\n",
              "      <td>2582</td>\n",
              "      <td>3.747880</td>\n",
              "      <td>1.382047</td>\n",
              "    </tr>\n",
              "    <tr>\n",
              "      <th>1</th>\n",
              "      <td>2.615204</td>\n",
              "      <td>1.353965</td>\n",
              "      <td>91</td>\n",
              "      <td>0.142278</td>\n",
              "      <td>1.0</td>\n",
              "      <td>0.0</td>\n",
              "      <td>0.0</td>\n",
              "      <td>0.0</td>\n",
              "      <td>0.0</td>\n",
              "      <td>0.0</td>\n",
              "      <td>0.0</td>\n",
              "      <td>0.0</td>\n",
              "      <td>0.0</td>\n",
              "      <td>0.0</td>\n",
              "      <td>1.0</td>\n",
              "      <td>0.0</td>\n",
              "      <td>0.0</td>\n",
              "      <td>0.0</td>\n",
              "      <td>0.0</td>\n",
              "      <td>0.0</td>\n",
              "      <td>5</td>\n",
              "      <td>42171</td>\n",
              "      <td>1034</td>\n",
              "      <td>3.333971</td>\n",
              "      <td>1.427335</td>\n",
              "    </tr>\n",
              "    <tr>\n",
              "      <th>2</th>\n",
              "      <td>2.695978</td>\n",
              "      <td>0.591716</td>\n",
              "      <td>2036</td>\n",
              "      <td>0.123649</td>\n",
              "      <td>1.0</td>\n",
              "      <td>0.0</td>\n",
              "      <td>0.0</td>\n",
              "      <td>0.0</td>\n",
              "      <td>0.0</td>\n",
              "      <td>0.0</td>\n",
              "      <td>0.0</td>\n",
              "      <td>0.0</td>\n",
              "      <td>0.0</td>\n",
              "      <td>0.0</td>\n",
              "      <td>0.0</td>\n",
              "      <td>0.0</td>\n",
              "      <td>1.0</td>\n",
              "      <td>0.0</td>\n",
              "      <td>0.0</td>\n",
              "      <td>0.0</td>\n",
              "      <td>0</td>\n",
              "      <td>65508</td>\n",
              "      <td>2028</td>\n",
              "      <td>3.169638</td>\n",
              "      <td>1.365332</td>\n",
              "    </tr>\n",
              "    <tr>\n",
              "      <th>3</th>\n",
              "      <td>2.900872</td>\n",
              "      <td>0.000000</td>\n",
              "      <td>207</td>\n",
              "      <td>0.120812</td>\n",
              "      <td>1.0</td>\n",
              "      <td>0.0</td>\n",
              "      <td>0.0</td>\n",
              "      <td>1.0</td>\n",
              "      <td>0.0</td>\n",
              "      <td>0.0</td>\n",
              "      <td>0.0</td>\n",
              "      <td>0.0</td>\n",
              "      <td>0.0</td>\n",
              "      <td>0.0</td>\n",
              "      <td>0.0</td>\n",
              "      <td>0.0</td>\n",
              "      <td>0.0</td>\n",
              "      <td>0.0</td>\n",
              "      <td>0.0</td>\n",
              "      <td>0.0</td>\n",
              "      <td>1</td>\n",
              "      <td>65391</td>\n",
              "      <td>1535</td>\n",
              "      <td>3.328527</td>\n",
              "      <td>1.401759</td>\n",
              "    </tr>\n",
              "    <tr>\n",
              "      <th>4</th>\n",
              "      <td>2.284421</td>\n",
              "      <td>0.000000</td>\n",
              "      <td>3096</td>\n",
              "      <td>0.122633</td>\n",
              "      <td>1.0</td>\n",
              "      <td>1.0</td>\n",
              "      <td>0.0</td>\n",
              "      <td>0.0</td>\n",
              "      <td>0.0</td>\n",
              "      <td>0.0</td>\n",
              "      <td>0.0</td>\n",
              "      <td>0.0</td>\n",
              "      <td>0.0</td>\n",
              "      <td>0.0</td>\n",
              "      <td>0.0</td>\n",
              "      <td>0.0</td>\n",
              "      <td>1.0</td>\n",
              "      <td>0.0</td>\n",
              "      <td>0.0</td>\n",
              "      <td>0.0</td>\n",
              "      <td>5</td>\n",
              "      <td>66051</td>\n",
              "      <td>1540</td>\n",
              "      <td>3.230043</td>\n",
              "      <td>1.387653</td>\n",
              "    </tr>\n",
              "  </tbody>\n",
              "</table>\n",
              "</div>"
            ],
            "text/plain": [
              "        amt       zip  city_pop  ...  address_fe  tran_mean_cust  tran_std_cust\n",
              "0  4.429506  0.000000      4056  ...        2582        3.747880       1.382047\n",
              "1  2.615204  1.353965        91  ...        1034        3.333971       1.427335\n",
              "2  2.695978  0.591716      2036  ...        2028        3.169638       1.365332\n",
              "3  2.900872  0.000000       207  ...        1535        3.328527       1.401759\n",
              "4  2.284421  0.000000      3096  ...        1540        3.230043       1.387653\n",
              "\n",
              "[5 rows x 25 columns]"
            ]
          },
          "execution_count": 179,
          "metadata": {},
          "output_type": "execute_result"
        }
      ],
      "source": [
        "X_train.head(5)"
      ]
    },
    {
      "cell_type": "code",
      "execution_count": null,
      "metadata": {
        "id": "aMQl1dbWxy0d"
      },
      "outputs": [],
      "source": [
        "X_train['city_pop'] = (X_train['city_pop'] - X_train['city_pop'].min())/(X_train['city_pop'].max()-X_train['city_pop'].min())\n",
        "X_train['Fraud_by_hour'] = (X_train['Fraud_by_hour'] - X_train['Fraud_by_hour'].min())/(X_train['Fraud_by_hour'].max()-X_train['Fraud_by_hour'].min())\n",
        "X_train['address_fe'] = (X_train['address_fe'] - X_train['address_fe'].min())/(X_train['address_fe'].max()-X_train['address_fe'].min())\n"
      ]
    },
    {
      "cell_type": "code",
      "execution_count": null,
      "metadata": {
        "id": "F6KdGzSeyaZY"
      },
      "outputs": [],
      "source": [
        "X_test['city_pop'] = (X_test['city_pop'] - X_test['city_pop'].min())/(X_test['city_pop'].max()-X_test['city_pop'].min())\n",
        "X_test['Fraud_by_hour'] = (X_test['Fraud_by_hour'] - X_test['Fraud_by_hour'].min())/(X_test['Fraud_by_hour'].max()-X_test['Fraud_by_hour'].min())\n",
        "X_test['address_fe'] = (X_train['address_fe'] - X_train['address_fe'].min())/(X_train['address_fe'].max()-X_train['address_fe'].min())"
      ]
    },
    {
      "cell_type": "code",
      "source": [
        "xgb_instance = xgb.XGBClassifier() \n",
        "model_for_feature_selection = xgb_instance.fit(X_train, y_train)"
      ],
      "metadata": {
        "id": "JG2RSBjJAsog"
      },
      "execution_count": null,
      "outputs": []
    },
    {
      "cell_type": "code",
      "source": [
        "# check the importances - you can also use SHAP values\n",
        "feature_importance = {'Feature':X_train.columns,'Importance':model_for_feature_selection.feature_importances_}\n",
        "feature_importance = pd.DataFrame(feature_importance)\n",
        "feature_importance.sort_values(\"Importance\", inplace=True,ascending=False)\n",
        "feature_importance"
      ],
      "metadata": {
        "id": "LfxMPXVvAx2a"
      },
      "execution_count": null,
      "outputs": []
    },
    {
      "cell_type": "code",
      "source": [
        "shap_values = shap.TreeExplainer(xgb_instance, feature_perturbation='interventional').shap_values(X_train)"
      ],
      "metadata": {
        "id": "8Sdua6CTBVAB"
      },
      "execution_count": null,
      "outputs": []
    },
    {
      "cell_type": "code",
      "source": [
        "explainer = shap.TreeExplainer(xgb_instance)\n",
        "shap_values = explainer.shap_values(X_train)"
      ],
      "metadata": {
        "id": "a2GTCPa8GUsA"
      },
      "execution_count": null,
      "outputs": []
    },
    {
      "cell_type": "code",
      "source": [
        "shap_values = shap.TreeExplainer(xgb_instance).shap_values(X_train)\n",
        "shap.summary_plot(shap_values, X_train, plot_type='bar')"
      ],
      "metadata": {
        "id": "Hq6RaqTdG2Zo"
      },
      "execution_count": null,
      "outputs": []
    },
    {
      "cell_type": "markdown",
      "metadata": {
        "id": "9nRF8S7kqEWJ"
      },
      "source": [
        "# MODEL"
      ]
    },
    {
      "cell_type": "code",
      "source": [
        "lr_model = LogisticRegression(solver='saga', max_iter=600)\n",
        "reult = lr_model.fit(X_train, y_train)"
      ],
      "metadata": {
        "id": "QpxFxDuY4fY6",
        "colab": {
          "base_uri": "https://localhost:8080/"
        },
        "outputId": "9cc2f3a6-801c-4dc4-adf3-ce1800b44955"
      },
      "execution_count": null,
      "outputs": [
        {
          "output_type": "stream",
          "name": "stderr",
          "text": [
            "The max_iter was reached which means the coef_ did not converge\n"
          ]
        }
      ]
    },
    {
      "cell_type": "code",
      "source": [
        "y_pred = lr_model.predict(X_test)\n",
        "y_pred"
      ],
      "metadata": {
        "id": "mm18Sh7t-aWK"
      },
      "execution_count": null,
      "outputs": []
    },
    {
      "cell_type": "code",
      "source": [
        "matrix = confusion_matrix(y_test, y_pred)\n",
        "sns.heatmap(matrix, annot=True, fmt=\"d\")\n",
        "plt.title('Confusion Matrix')\n",
        "plt.xlabel('Predicted')\n",
        "plt.ylabel('True')\n",
        "print(classification_report(y_test, y_pred))"
      ],
      "metadata": {
        "id": "ku8x0Heq8Zlu"
      },
      "execution_count": null,
      "outputs": []
    }
  ],
  "metadata": {
    "colab": {
      "collapsed_sections": [],
      "name": "Log_reg_creditcard.ipynb",
      "provenance": []
    },
    "kernelspec": {
      "display_name": "Python 3",
      "name": "python3"
    },
    "language_info": {
      "name": "python"
    }
  },
  "nbformat": 4,
  "nbformat_minor": 0
}